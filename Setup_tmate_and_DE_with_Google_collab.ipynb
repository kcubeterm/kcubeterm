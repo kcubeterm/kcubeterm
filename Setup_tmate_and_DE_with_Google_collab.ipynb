{
  "nbformat": 4,
  "nbformat_minor": 0,
  "metadata": {
    "colab": {
      "name": "Setup tmate and DE with Google collab",
      "provenance": [],
      "private_outputs": true,
      "authorship_tag": "ABX9TyMFXbgCfvn7ZFqYmBcd3JHv",
      "include_colab_link": true
    },
    "kernelspec": {
      "name": "python3",
      "display_name": "Python 3"
    }
  },
  "cells": [
    {
      "cell_type": "markdown",
      "metadata": {
        "id": "view-in-github",
        "colab_type": "text"
      },
      "source": [
        "<a href=\"https://colab.research.google.com/github/kcubeterm/kcubeterm/blob/master/Setup_tmate_and_DE_with_Google_collab.ipynb\" target=\"_parent\"><img src=\"https://colab.research.google.com/assets/colab-badge.svg\" alt=\"Open In Colab\"/></a>"
      ]
    },
    {
      "cell_type": "markdown",
      "metadata": {
        "id": "qOlnsxG_5E6r",
        "colab_type": "text"
      },
      "source": [
        "#### NOTE: Don't start this cell until you finished with other 4 cell,\n",
        " \n",
        "and don't try to run following command in background otherwise vm may sleep"
      ]
    },
    {
      "cell_type": "code",
      "metadata": {
        "id": "q9IFAsT0_Igg",
        "colab_type": "code",
        "colab": {}
      },
      "source": [
        "!wget https://github.com/tmate-io/tmate/releases/download/2.4.0/tmate-2.4.0-static-linux-i386.tar.xz &> /dev/null\n",
        "!tar -xvf tmate-2.4.0-static-linux-i386.tar.xz &> /dev/null\n",
        "!./tmate-2.4.0-static-linux-i386/tmate -F -k tmk-wtLeuhLqAZ2xnZfbzQlmujeHSG -n you"
      ],
      "execution_count": null,
      "outputs": []
    },
    {
      "cell_type": "markdown",
      "metadata": {
        "id": "3NDr-MEfJBsW",
        "colab_type": "text"
      },
      "source": [
        " ### 1. Ngrok installation\n",
        " \n",
        "#### Note: Don't forget to write your own ngrok api token in line 3"
      ]
    },
    {
      "cell_type": "code",
      "metadata": {
        "id": "kXSrDrUQUFiH",
        "colab_type": "code",
        "colab": {}
      },
      "source": [
        "!wget https://bin.equinox.io/c/4VmDzA7iaHb/ngrok-stable-linux-amd64.zip\n",
        "!unzip ngrok-stable*.zip\n",
        "!./ngrok authtoken 1eAC8joulfnfAx5OwpbfcYy1eK5_7tc8sTC5Z5uJtc98TE4CG"
      ],
      "execution_count": null,
      "outputs": []
    },
    {
      "cell_type": "markdown",
      "metadata": {
        "id": "ncMRp4tiTcAm",
        "colab_type": "text"
      },
      "source": [
        "### 2.installing lxde and starting vncserver."
      ]
    },
    {
      "cell_type": "code",
      "metadata": {
        "id": "AbDw-vSGAfVb",
        "colab_type": "code",
        "colab": {}
      },
      "source": [
        "!export DEBIAN_FRONTEND=noninteractive\n",
        "!apt update\n",
        "!apt install lxde\n",
        "!apt install tigervnc-standalone-server\n",
        "!vncserver :1 -SecurityTypes none &"
      ],
      "execution_count": null,
      "outputs": []
    },
    {
      "cell_type": "markdown",
      "metadata": {
        "id": "qO_D0Gn8s2cB",
        "colab_type": "text"
      },
      "source": [
        "#### 3.Get ngrok ip and port for connecting with vnc\n",
        " \n",
        "##### Note: you will got an ip and port here, that will help you connect your lxde to vncviewer."
      ]
    },
    {
      "cell_type": "code",
      "metadata": {
        "id": "fa-RzJbmX4U4",
        "colab_type": "code",
        "colab": {}
      },
      "source": [
        "get_ipython().system_raw('./ngrok tcp 5901 &')\n",
        "!curl -s http://localhost:4040/api/tunnels | python3 -c \\\n",
        "\"import sys, json; print(json.load(sys.stdin)['tunnels'][0]['public_url'])\""
      ],
      "execution_count": null,
      "outputs": []
    },
    {
      "cell_type": "markdown",
      "metadata": {
        "id": "MODhiHZkjrh9",
        "colab_type": "text"
      },
      "source": [
        " #### 4.installing android studio lol"
      ]
    },
    {
      "cell_type": "code",
      "metadata": {
        "id": "YBYeARQzjW2U",
        "colab_type": "code",
        "colab": {}
      },
      "source": [
        "!ls\n",
        "!pwd\n",
        "!wget https://redirector.gvt1.com/edgedl/android/studio/ide-zips/4.0.0.16/android-studio-ide-193.6514223-linux.tar.gz\n",
        "!tar -xvf android*.tar.gz\n",
        "!ls"
      ],
      "execution_count": null,
      "outputs": []
    },
    {
      "cell_type": "markdown",
      "metadata": {
        "id": "gRGRMxMY8_kO",
        "colab_type": "text"
      },
      "source": [
        " #### Just a fun cell for checking location of VM"
      ]
    },
    {
      "cell_type": "code",
      "metadata": {
        "id": "sV8F88PV86rC",
        "colab_type": "code",
        "colab": {}
      },
      "source": [
        "!curl ipinfo.io"
      ],
      "execution_count": null,
      "outputs": []
    }
  ]
}